{
 "cells": [
  {
   "cell_type": "code",
   "execution_count": 1,
   "metadata": {},
   "outputs": [],
   "source": [
    "import einsteinpy_geodesics as eg\n",
    "import numpy as np"
   ]
  },
  {
   "cell_type": "code",
   "execution_count": 2,
   "metadata": {},
   "outputs": [],
   "source": [
    "q = [2.5, np.pi / 2, 0.0]\n",
    "p = [0.0, 0., -2.0]\n",
    "params = [0.9, 0.1878809905821554, 0.0]\n",
    "end_lambda = 10.\n",
    "step_size = 0.05"
   ]
  },
  {
   "cell_type": "code",
   "execution_count": 3,
   "metadata": {
    "scrolled": true
   },
   "outputs": [
    {
     "name": "stderr",
     "output_type": "stream",
     "text": [
      "C:\\Users\\JeS73\\Desktop\\GSoC\\FINAL FINAL\\Repos\\einsteinpy-geodesics\\src\\einsteinpy_geodesics\\geodesics_wrapper.py:80: RuntimeWarning: Test particle has reached the Event Horizon. \n",
      "  warnings.warn(\"Test particle has reached the Event Horizon. \", RuntimeWarning)\n"
     ]
    }
   ],
   "source": [
    "l, v = eg.solveSystem(q, p, params, end_lambda, step_size)"
   ]
  },
  {
   "cell_type": "code",
   "execution_count": 4,
   "metadata": {},
   "outputs": [
    {
     "data": {
      "text/plain": [
       "3.5158599546496223"
      ]
     },
     "execution_count": 4,
     "metadata": {},
     "output_type": "execute_result"
    }
   ],
   "source": [
    "l[-1]"
   ]
  },
  {
   "cell_type": "code",
   "execution_count": 5,
   "metadata": {},
   "outputs": [],
   "source": [
    "from numpy.testing import assert_allclose"
   ]
  },
  {
   "cell_type": "code",
   "execution_count": 6,
   "metadata": {},
   "outputs": [],
   "source": [
    "L = p[-1]\n",
    "assert_allclose(L, v[:, 5], atol=1e-3, rtol=1e-3)"
   ]
  },
  {
   "cell_type": "code",
   "execution_count": 7,
   "metadata": {
    "scrolled": false
   },
   "outputs": [
    {
     "data": {
      "text/plain": [
       "array([-2.        , -2.        , -2.        , -2.        , -2.        ,\n",
       "       -2.        , -2.        , -2.        , -2.        , -2.        ,\n",
       "       -2.        , -2.        , -2.        , -2.        , -2.        ,\n",
       "       -2.        , -2.        , -2.        , -2.        , -2.        ,\n",
       "       -2.        , -2.        , -2.        , -2.        , -2.        ,\n",
       "       -2.        , -2.        , -2.        , -2.        , -2.        ,\n",
       "       -2.        , -2.        , -2.        , -2.        , -2.        ,\n",
       "       -2.        , -2.        , -2.        , -2.        , -2.        ,\n",
       "       -2.        , -2.        , -2.        , -2.        , -2.        ,\n",
       "       -2.        , -2.        , -2.        , -2.        , -2.        ,\n",
       "       -2.        , -2.        , -2.        , -2.        , -2.        ,\n",
       "       -2.        , -2.        , -2.        , -2.        , -2.        ,\n",
       "       -2.        , -2.        , -2.        , -2.        , -2.        ,\n",
       "       -2.        , -2.        , -2.        , -2.        , -2.        ,\n",
       "       -2.        , -1.99786338, -1.99786338])"
      ]
     },
     "execution_count": 7,
     "metadata": {},
     "output_type": "execute_result"
    }
   ],
   "source": [
    "v[:, 5]"
   ]
  },
  {
   "cell_type": "code",
   "execution_count": null,
   "metadata": {},
   "outputs": [],
   "source": []
  }
 ],
 "metadata": {
  "kernelspec": {
   "display_name": "Python 3",
   "language": "python",
   "name": "python3"
  },
  "language_info": {
   "codemirror_mode": {
    "name": "ipython",
    "version": 3
   },
   "file_extension": ".py",
   "mimetype": "text/x-python",
   "name": "python",
   "nbconvert_exporter": "python",
   "pygments_lexer": "ipython3",
   "version": "3.7.4"
  }
 },
 "nbformat": 4,
 "nbformat_minor": 4
}
